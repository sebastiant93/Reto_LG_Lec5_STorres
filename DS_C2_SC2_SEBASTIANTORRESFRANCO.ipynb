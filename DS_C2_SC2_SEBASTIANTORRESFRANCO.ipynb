{
  "nbformat": 4,
  "nbformat_minor": 0,
  "metadata": {
    "colab": {
      "provenance": []
    },
    "kernelspec": {
      "name": "python3",
      "display_name": "Python 3"
    },
    "language_info": {
      "name": "python"
    }
  },
  "cells": [
    {
      "cell_type": "markdown",
      "source": [
        "# Punto 4)\n",
        "Para cada uno de los siguientes requerimientos, incluye una sección de texto (especificando\n",
        "el enunciado) y una sección de código para la solución de:"
      ],
      "metadata": {
        "id": "xUdKeSc0LvNH"
      }
    },
    {
      "cell_type": "markdown",
      "source": [
        "##a) \n",
        "Extraer la información del archivo"
      ],
      "metadata": {
        "id": "DSgpLlFJLx9D"
      }
    },
    {
      "cell_type": "code",
      "execution_count": 1,
      "metadata": {
        "id": "qYTfB59CJexz"
      },
      "outputs": [],
      "source": [
        "#Se importan las bibliotecas pandas, y numpy\n",
        "import pandas as pd\n",
        "import numpy as np\n",
        "\n",
        "#Se almacena la información en la variable data_vaccine\n",
        "data_vaccine=pd.read_csv('/content/country_vaccinations.csv')"
      ]
    },
    {
      "cell_type": "markdown",
      "source": [
        "##b)\n",
        "Mostrar la estructura y tipos de datos de cada columna para identificar qué operaciones puedes realizar con cada una de ellas, asegurandote que las columnas con fechas sean del tipo datetime64."
      ],
      "metadata": {
        "id": "pJHwyMD9K1s7"
      }
    },
    {
      "cell_type": "code",
      "source": [
        "#Se muestra la información de DataFrame con la función .info()\n",
        "print(data_vaccine.info())\n",
        "print('\\n')\n",
        "\n",
        "#Se evidencia que la columna 'date' es Dtype object. Se convierte a DType datetime64.\n",
        "data_vaccine['date']=pd.to_datetime(data_vaccine['date'])\n",
        "print(data_vaccine.info())\n",
        "\n"
      ],
      "metadata": {
        "colab": {
          "base_uri": "https://localhost:8080/"
        },
        "id": "Tvsc3zmqaGjC",
        "outputId": "1b276d8e-55e0-4959-b63d-2b5961134406"
      },
      "execution_count": 2,
      "outputs": [
        {
          "output_type": "stream",
          "name": "stdout",
          "text": [
            "<class 'pandas.core.frame.DataFrame'>\n",
            "RangeIndex: 86512 entries, 0 to 86511\n",
            "Data columns (total 15 columns):\n",
            " #   Column                               Non-Null Count  Dtype  \n",
            "---  ------                               --------------  -----  \n",
            " 0   country                              86512 non-null  object \n",
            " 1   iso_code                             86512 non-null  object \n",
            " 2   date                                 86512 non-null  object \n",
            " 3   total_vaccinations                   43607 non-null  float64\n",
            " 4   people_vaccinated                    41294 non-null  float64\n",
            " 5   people_fully_vaccinated              38802 non-null  float64\n",
            " 6   daily_vaccinations_raw               35362 non-null  float64\n",
            " 7   daily_vaccinations                   86213 non-null  float64\n",
            " 8   total_vaccinations_per_hundred       43607 non-null  float64\n",
            " 9   people_vaccinated_per_hundred        41294 non-null  float64\n",
            " 10  people_fully_vaccinated_per_hundred  38802 non-null  float64\n",
            " 11  daily_vaccinations_per_million       86213 non-null  float64\n",
            " 12  vaccines                             86512 non-null  object \n",
            " 13  source_name                          86512 non-null  object \n",
            " 14  source_website                       86512 non-null  object \n",
            "dtypes: float64(9), object(6)\n",
            "memory usage: 9.9+ MB\n",
            "None\n",
            "\n",
            "\n",
            "<class 'pandas.core.frame.DataFrame'>\n",
            "RangeIndex: 86512 entries, 0 to 86511\n",
            "Data columns (total 15 columns):\n",
            " #   Column                               Non-Null Count  Dtype         \n",
            "---  ------                               --------------  -----         \n",
            " 0   country                              86512 non-null  object        \n",
            " 1   iso_code                             86512 non-null  object        \n",
            " 2   date                                 86512 non-null  datetime64[ns]\n",
            " 3   total_vaccinations                   43607 non-null  float64       \n",
            " 4   people_vaccinated                    41294 non-null  float64       \n",
            " 5   people_fully_vaccinated              38802 non-null  float64       \n",
            " 6   daily_vaccinations_raw               35362 non-null  float64       \n",
            " 7   daily_vaccinations                   86213 non-null  float64       \n",
            " 8   total_vaccinations_per_hundred       43607 non-null  float64       \n",
            " 9   people_vaccinated_per_hundred        41294 non-null  float64       \n",
            " 10  people_fully_vaccinated_per_hundred  38802 non-null  float64       \n",
            " 11  daily_vaccinations_per_million       86213 non-null  float64       \n",
            " 12  vaccines                             86512 non-null  object        \n",
            " 13  source_name                          86512 non-null  object        \n",
            " 14  source_website                       86512 non-null  object        \n",
            "dtypes: datetime64[ns](1), float64(9), object(5)\n",
            "memory usage: 9.9+ MB\n",
            "None\n"
          ]
        }
      ]
    },
    {
      "cell_type": "markdown",
      "source": [
        "##c)\n",
        "Determinar la cantidad de vacunas aplicadas de cada compañía (en base a como lo reporta cada país en la columna vaccines)"
      ],
      "metadata": {
        "id": "Rk0HDd86d8ZJ"
      }
    },
    {
      "cell_type": "code",
      "source": [
        "#Para determinar la cantidad de vacunas se agrupa la información por tipo de campaña, y sobre los resultados se hace una sumatoria\n",
        "print('La cantidad de vacunas aplicadas por campaña es : \\n')\n",
        "data_vaccine[['daily_vaccinations','vaccines']].groupby(['vaccines']).sum() #Se hace el agrupamiento. y sobre el resultado se realiza la suma\n"
      ],
      "metadata": {
        "colab": {
          "base_uri": "https://localhost:8080/",
          "height": 492
        },
        "id": "Z2jGizF8eGUO",
        "outputId": "7cf508bf-346b-46d0-b600-0aa275cd32ff"
      },
      "execution_count": 17,
      "outputs": [
        {
          "output_type": "stream",
          "name": "stdout",
          "text": [
            "La cantidad de vacunas aplicadas por campaña es : \n",
            "\n"
          ]
        },
        {
          "output_type": "execute_result",
          "data": {
            "text/plain": [
              "                                                    daily_vaccinations\n",
              "vaccines                                                              \n",
              "Abdala, Johnson&Johnson, Oxford/AstraZeneca, Pf...           9616160.0\n",
              "Abdala, Moderna, Oxford/AstraZeneca, Pfizer/Bio...         201816053.0\n",
              "Abdala, Sinopharm/Beijing, Sinovac, Soberana02,...          37861146.0\n",
              "Abdala, Soberana Plus, Soberana02                           33802957.0\n",
              "COVIran Barekat, Covaxin, FAKHRAVAC, Oxford/Ast...         146357015.0\n",
              "...                                                                ...\n",
              "Pfizer/BioNTech, Sinovac, Turkovac                         147484328.0\n",
              "Pfizer/BioNTech, Sputnik V                                     68643.0\n",
              "QazVac, Sinopharm/Beijing, Sputnik V                        20891256.0\n",
              "Sinopharm/Beijing                                             893824.0\n",
              "Sinopharm/Beijing, Sputnik V                                14398697.0\n",
              "\n",
              "[84 rows x 1 columns]"
            ],
            "text/html": [
              "\n",
              "  <div id=\"df-66d64218-5b77-4494-ae24-b89f6f72bd3c\">\n",
              "    <div class=\"colab-df-container\">\n",
              "      <div>\n",
              "<style scoped>\n",
              "    .dataframe tbody tr th:only-of-type {\n",
              "        vertical-align: middle;\n",
              "    }\n",
              "\n",
              "    .dataframe tbody tr th {\n",
              "        vertical-align: top;\n",
              "    }\n",
              "\n",
              "    .dataframe thead th {\n",
              "        text-align: right;\n",
              "    }\n",
              "</style>\n",
              "<table border=\"1\" class=\"dataframe\">\n",
              "  <thead>\n",
              "    <tr style=\"text-align: right;\">\n",
              "      <th></th>\n",
              "      <th>daily_vaccinations</th>\n",
              "    </tr>\n",
              "    <tr>\n",
              "      <th>vaccines</th>\n",
              "      <th></th>\n",
              "    </tr>\n",
              "  </thead>\n",
              "  <tbody>\n",
              "    <tr>\n",
              "      <th>Abdala, Johnson&amp;Johnson, Oxford/AstraZeneca, Pfizer/BioNTech, Soberana02, Sputnik Light, Sputnik V</th>\n",
              "      <td>9616160.0</td>\n",
              "    </tr>\n",
              "    <tr>\n",
              "      <th>Abdala, Moderna, Oxford/AstraZeneca, Pfizer/BioNTech, Sinopharm/Beijing, Sputnik V</th>\n",
              "      <td>201816053.0</td>\n",
              "    </tr>\n",
              "    <tr>\n",
              "      <th>Abdala, Sinopharm/Beijing, Sinovac, Soberana02, Sputnik Light, Sputnik V</th>\n",
              "      <td>37861146.0</td>\n",
              "    </tr>\n",
              "    <tr>\n",
              "      <th>Abdala, Soberana Plus, Soberana02</th>\n",
              "      <td>33802957.0</td>\n",
              "    </tr>\n",
              "    <tr>\n",
              "      <th>COVIran Barekat, Covaxin, FAKHRAVAC, Oxford/AstraZeneca, Razi Cov Pars, Sinopharm/Beijing, Soberana02, SpikoGen, Sputnik V</th>\n",
              "      <td>146357015.0</td>\n",
              "    </tr>\n",
              "    <tr>\n",
              "      <th>...</th>\n",
              "      <td>...</td>\n",
              "    </tr>\n",
              "    <tr>\n",
              "      <th>Pfizer/BioNTech, Sinovac, Turkovac</th>\n",
              "      <td>147484328.0</td>\n",
              "    </tr>\n",
              "    <tr>\n",
              "      <th>Pfizer/BioNTech, Sputnik V</th>\n",
              "      <td>68643.0</td>\n",
              "    </tr>\n",
              "    <tr>\n",
              "      <th>QazVac, Sinopharm/Beijing, Sputnik V</th>\n",
              "      <td>20891256.0</td>\n",
              "    </tr>\n",
              "    <tr>\n",
              "      <th>Sinopharm/Beijing</th>\n",
              "      <td>893824.0</td>\n",
              "    </tr>\n",
              "    <tr>\n",
              "      <th>Sinopharm/Beijing, Sputnik V</th>\n",
              "      <td>14398697.0</td>\n",
              "    </tr>\n",
              "  </tbody>\n",
              "</table>\n",
              "<p>84 rows × 1 columns</p>\n",
              "</div>\n",
              "      <button class=\"colab-df-convert\" onclick=\"convertToInteractive('df-66d64218-5b77-4494-ae24-b89f6f72bd3c')\"\n",
              "              title=\"Convert this dataframe to an interactive table.\"\n",
              "              style=\"display:none;\">\n",
              "        \n",
              "  <svg xmlns=\"http://www.w3.org/2000/svg\" height=\"24px\"viewBox=\"0 0 24 24\"\n",
              "       width=\"24px\">\n",
              "    <path d=\"M0 0h24v24H0V0z\" fill=\"none\"/>\n",
              "    <path d=\"M18.56 5.44l.94 2.06.94-2.06 2.06-.94-2.06-.94-.94-2.06-.94 2.06-2.06.94zm-11 1L8.5 8.5l.94-2.06 2.06-.94-2.06-.94L8.5 2.5l-.94 2.06-2.06.94zm10 10l.94 2.06.94-2.06 2.06-.94-2.06-.94-.94-2.06-.94 2.06-2.06.94z\"/><path d=\"M17.41 7.96l-1.37-1.37c-.4-.4-.92-.59-1.43-.59-.52 0-1.04.2-1.43.59L10.3 9.45l-7.72 7.72c-.78.78-.78 2.05 0 2.83L4 21.41c.39.39.9.59 1.41.59.51 0 1.02-.2 1.41-.59l7.78-7.78 2.81-2.81c.8-.78.8-2.07 0-2.86zM5.41 20L4 18.59l7.72-7.72 1.47 1.35L5.41 20z\"/>\n",
              "  </svg>\n",
              "      </button>\n",
              "      \n",
              "  <style>\n",
              "    .colab-df-container {\n",
              "      display:flex;\n",
              "      flex-wrap:wrap;\n",
              "      gap: 12px;\n",
              "    }\n",
              "\n",
              "    .colab-df-convert {\n",
              "      background-color: #E8F0FE;\n",
              "      border: none;\n",
              "      border-radius: 50%;\n",
              "      cursor: pointer;\n",
              "      display: none;\n",
              "      fill: #1967D2;\n",
              "      height: 32px;\n",
              "      padding: 0 0 0 0;\n",
              "      width: 32px;\n",
              "    }\n",
              "\n",
              "    .colab-df-convert:hover {\n",
              "      background-color: #E2EBFA;\n",
              "      box-shadow: 0px 1px 2px rgba(60, 64, 67, 0.3), 0px 1px 3px 1px rgba(60, 64, 67, 0.15);\n",
              "      fill: #174EA6;\n",
              "    }\n",
              "\n",
              "    [theme=dark] .colab-df-convert {\n",
              "      background-color: #3B4455;\n",
              "      fill: #D2E3FC;\n",
              "    }\n",
              "\n",
              "    [theme=dark] .colab-df-convert:hover {\n",
              "      background-color: #434B5C;\n",
              "      box-shadow: 0px 1px 3px 1px rgba(0, 0, 0, 0.15);\n",
              "      filter: drop-shadow(0px 1px 2px rgba(0, 0, 0, 0.3));\n",
              "      fill: #FFFFFF;\n",
              "    }\n",
              "  </style>\n",
              "\n",
              "      <script>\n",
              "        const buttonEl =\n",
              "          document.querySelector('#df-66d64218-5b77-4494-ae24-b89f6f72bd3c button.colab-df-convert');\n",
              "        buttonEl.style.display =\n",
              "          google.colab.kernel.accessAllowed ? 'block' : 'none';\n",
              "\n",
              "        async function convertToInteractive(key) {\n",
              "          const element = document.querySelector('#df-66d64218-5b77-4494-ae24-b89f6f72bd3c');\n",
              "          const dataTable =\n",
              "            await google.colab.kernel.invokeFunction('convertToInteractive',\n",
              "                                                     [key], {});\n",
              "          if (!dataTable) return;\n",
              "\n",
              "          const docLinkHtml = 'Like what you see? Visit the ' +\n",
              "            '<a target=\"_blank\" href=https://colab.research.google.com/notebooks/data_table.ipynb>data table notebook</a>'\n",
              "            + ' to learn more about interactive tables.';\n",
              "          element.innerHTML = '';\n",
              "          dataTable['output_type'] = 'display_data';\n",
              "          await google.colab.output.renderOutput(dataTable, element);\n",
              "          const docLink = document.createElement('div');\n",
              "          docLink.innerHTML = docLinkHtml;\n",
              "          element.appendChild(docLink);\n",
              "        }\n",
              "      </script>\n",
              "    </div>\n",
              "  </div>\n",
              "  "
            ]
          },
          "metadata": {},
          "execution_count": 17
        }
      ]
    },
    {
      "cell_type": "markdown",
      "source": [
        "##d)\n",
        "Obtener la cantidad de vacunas aplicadas en todo el mundo"
      ],
      "metadata": {
        "id": "7-lPWJFcgXhf"
      }
    },
    {
      "cell_type": "code",
      "source": [
        "#Para calcular esta cantidad se realiza la suma sobre la columna daily_vaccinations, indistintamente de la fecha\n",
        "#Lo anterior se consigue usando la función .sum()\n",
        "\n",
        "# usamos la expresión data_vaccine['daily_vaccinations'].sum() para realizar la sumatoria de los elementos del campo\n",
        "print('El total de vacunas aplicadas en todo el mundo son ' + str(data_vaccine['daily_vaccinations'].sum())) #Sumamos todos los valores del campo daily_vaccinations"
      ],
      "metadata": {
        "colab": {
          "base_uri": "https://localhost:8080/"
        },
        "id": "SyiCDpErgc6J",
        "outputId": "8b4f6cc4-882d-4c85-c347-c9b7eafede03"
      },
      "execution_count": 3,
      "outputs": [
        {
          "output_type": "stream",
          "name": "stdout",
          "text": [
            "El total de vacunas aplicadas en todo el mundo son 11320239871.0\n"
          ]
        }
      ]
    },
    {
      "cell_type": "markdown",
      "source": [
        "##e)\n",
        "\n",
        "Calcular el promedio de vacunas aplicadas por país\n"
      ],
      "metadata": {
        "id": "HDE2kVu7g5-A"
      }
    },
    {
      "cell_type": "code",
      "source": [
        "#Para calcular este estadístico se realiza una agrupación por país usando un .groupby, y luego se aplica la función .mean()\n",
        "#Las anteriores operaciones se realizan sobre el campo daily_vaccinations\n",
        "\n",
        "print('El promedio de vacunas aplicadas por día en cada país es: \\n')\n",
        "data_vaccine[['daily_vaccinations','country']].groupby('country').mean() #Realizamos el agrupamiento, y sobre el mismo calculamos el promedio\n"
      ],
      "metadata": {
        "colab": {
          "base_uri": "https://localhost:8080/",
          "height": 492
        },
        "id": "1ZC0F-fshCau",
        "outputId": "02c8fd5e-01e8-4465-b556-28af92cfdbe2"
      },
      "execution_count": 4,
      "outputs": [
        {
          "output_type": "stream",
          "name": "stdout",
          "text": [
            "El promedio de vacunas aplicadas por día en cada país es: \n",
            "\n"
          ]
        },
        {
          "output_type": "execute_result",
          "data": {
            "text/plain": [
              "                   daily_vaccinations\n",
              "country                              \n",
              "Afghanistan              14610.681934\n",
              "Albania                   6276.210046\n",
              "Algeria                  33904.356436\n",
              "Andorra                    367.716019\n",
              "Angola                   44821.457584\n",
              "...                               ...\n",
              "Wales                    15518.411765\n",
              "Wallis and Futuna           33.886486\n",
              "Yemen                     2556.115756\n",
              "Zambia                    9649.805158\n",
              "Zimbabwe                 21669.066832\n",
              "\n",
              "[223 rows x 1 columns]"
            ],
            "text/html": [
              "\n",
              "  <div id=\"df-8269bf79-7807-429e-85ec-9f3086d62563\">\n",
              "    <div class=\"colab-df-container\">\n",
              "      <div>\n",
              "<style scoped>\n",
              "    .dataframe tbody tr th:only-of-type {\n",
              "        vertical-align: middle;\n",
              "    }\n",
              "\n",
              "    .dataframe tbody tr th {\n",
              "        vertical-align: top;\n",
              "    }\n",
              "\n",
              "    .dataframe thead th {\n",
              "        text-align: right;\n",
              "    }\n",
              "</style>\n",
              "<table border=\"1\" class=\"dataframe\">\n",
              "  <thead>\n",
              "    <tr style=\"text-align: right;\">\n",
              "      <th></th>\n",
              "      <th>daily_vaccinations</th>\n",
              "    </tr>\n",
              "    <tr>\n",
              "      <th>country</th>\n",
              "      <th></th>\n",
              "    </tr>\n",
              "  </thead>\n",
              "  <tbody>\n",
              "    <tr>\n",
              "      <th>Afghanistan</th>\n",
              "      <td>14610.681934</td>\n",
              "    </tr>\n",
              "    <tr>\n",
              "      <th>Albania</th>\n",
              "      <td>6276.210046</td>\n",
              "    </tr>\n",
              "    <tr>\n",
              "      <th>Algeria</th>\n",
              "      <td>33904.356436</td>\n",
              "    </tr>\n",
              "    <tr>\n",
              "      <th>Andorra</th>\n",
              "      <td>367.716019</td>\n",
              "    </tr>\n",
              "    <tr>\n",
              "      <th>Angola</th>\n",
              "      <td>44821.457584</td>\n",
              "    </tr>\n",
              "    <tr>\n",
              "      <th>...</th>\n",
              "      <td>...</td>\n",
              "    </tr>\n",
              "    <tr>\n",
              "      <th>Wales</th>\n",
              "      <td>15518.411765</td>\n",
              "    </tr>\n",
              "    <tr>\n",
              "      <th>Wallis and Futuna</th>\n",
              "      <td>33.886486</td>\n",
              "    </tr>\n",
              "    <tr>\n",
              "      <th>Yemen</th>\n",
              "      <td>2556.115756</td>\n",
              "    </tr>\n",
              "    <tr>\n",
              "      <th>Zambia</th>\n",
              "      <td>9649.805158</td>\n",
              "    </tr>\n",
              "    <tr>\n",
              "      <th>Zimbabwe</th>\n",
              "      <td>21669.066832</td>\n",
              "    </tr>\n",
              "  </tbody>\n",
              "</table>\n",
              "<p>223 rows × 1 columns</p>\n",
              "</div>\n",
              "      <button class=\"colab-df-convert\" onclick=\"convertToInteractive('df-8269bf79-7807-429e-85ec-9f3086d62563')\"\n",
              "              title=\"Convert this dataframe to an interactive table.\"\n",
              "              style=\"display:none;\">\n",
              "        \n",
              "  <svg xmlns=\"http://www.w3.org/2000/svg\" height=\"24px\"viewBox=\"0 0 24 24\"\n",
              "       width=\"24px\">\n",
              "    <path d=\"M0 0h24v24H0V0z\" fill=\"none\"/>\n",
              "    <path d=\"M18.56 5.44l.94 2.06.94-2.06 2.06-.94-2.06-.94-.94-2.06-.94 2.06-2.06.94zm-11 1L8.5 8.5l.94-2.06 2.06-.94-2.06-.94L8.5 2.5l-.94 2.06-2.06.94zm10 10l.94 2.06.94-2.06 2.06-.94-2.06-.94-.94-2.06-.94 2.06-2.06.94z\"/><path d=\"M17.41 7.96l-1.37-1.37c-.4-.4-.92-.59-1.43-.59-.52 0-1.04.2-1.43.59L10.3 9.45l-7.72 7.72c-.78.78-.78 2.05 0 2.83L4 21.41c.39.39.9.59 1.41.59.51 0 1.02-.2 1.41-.59l7.78-7.78 2.81-2.81c.8-.78.8-2.07 0-2.86zM5.41 20L4 18.59l7.72-7.72 1.47 1.35L5.41 20z\"/>\n",
              "  </svg>\n",
              "      </button>\n",
              "      \n",
              "  <style>\n",
              "    .colab-df-container {\n",
              "      display:flex;\n",
              "      flex-wrap:wrap;\n",
              "      gap: 12px;\n",
              "    }\n",
              "\n",
              "    .colab-df-convert {\n",
              "      background-color: #E8F0FE;\n",
              "      border: none;\n",
              "      border-radius: 50%;\n",
              "      cursor: pointer;\n",
              "      display: none;\n",
              "      fill: #1967D2;\n",
              "      height: 32px;\n",
              "      padding: 0 0 0 0;\n",
              "      width: 32px;\n",
              "    }\n",
              "\n",
              "    .colab-df-convert:hover {\n",
              "      background-color: #E2EBFA;\n",
              "      box-shadow: 0px 1px 2px rgba(60, 64, 67, 0.3), 0px 1px 3px 1px rgba(60, 64, 67, 0.15);\n",
              "      fill: #174EA6;\n",
              "    }\n",
              "\n",
              "    [theme=dark] .colab-df-convert {\n",
              "      background-color: #3B4455;\n",
              "      fill: #D2E3FC;\n",
              "    }\n",
              "\n",
              "    [theme=dark] .colab-df-convert:hover {\n",
              "      background-color: #434B5C;\n",
              "      box-shadow: 0px 1px 3px 1px rgba(0, 0, 0, 0.15);\n",
              "      filter: drop-shadow(0px 1px 2px rgba(0, 0, 0, 0.3));\n",
              "      fill: #FFFFFF;\n",
              "    }\n",
              "  </style>\n",
              "\n",
              "      <script>\n",
              "        const buttonEl =\n",
              "          document.querySelector('#df-8269bf79-7807-429e-85ec-9f3086d62563 button.colab-df-convert');\n",
              "        buttonEl.style.display =\n",
              "          google.colab.kernel.accessAllowed ? 'block' : 'none';\n",
              "\n",
              "        async function convertToInteractive(key) {\n",
              "          const element = document.querySelector('#df-8269bf79-7807-429e-85ec-9f3086d62563');\n",
              "          const dataTable =\n",
              "            await google.colab.kernel.invokeFunction('convertToInteractive',\n",
              "                                                     [key], {});\n",
              "          if (!dataTable) return;\n",
              "\n",
              "          const docLinkHtml = 'Like what you see? Visit the ' +\n",
              "            '<a target=\"_blank\" href=https://colab.research.google.com/notebooks/data_table.ipynb>data table notebook</a>'\n",
              "            + ' to learn more about interactive tables.';\n",
              "          element.innerHTML = '';\n",
              "          dataTable['output_type'] = 'display_data';\n",
              "          await google.colab.output.renderOutput(dataTable, element);\n",
              "          const docLink = document.createElement('div');\n",
              "          docLink.innerHTML = docLinkHtml;\n",
              "          element.appendChild(docLink);\n",
              "        }\n",
              "      </script>\n",
              "    </div>\n",
              "  </div>\n",
              "  "
            ]
          },
          "metadata": {},
          "execution_count": 4
        }
      ]
    },
    {
      "cell_type": "markdown",
      "source": [
        "##f)\n",
        "Determinar la cantidad de vacunas aplicadas el día 29/01/21 en todo el mundo"
      ],
      "metadata": {
        "id": "83lJ91LNiw6T"
      }
    },
    {
      "cell_type": "code",
      "source": [
        "#Para llevar a cabo lo anterior hacemos un query de la fecha correspondiente, y sobre el resultado hacemos la suma del campo daily vaccinations\n",
        "\n",
        "#Usamos la expresión data_vaccine.query('date == \"29/01/21\"')['daily_vaccinations'].sum()\n",
        "#Con lo anterior realizamos la consulta de la fecha en cuestión, y realizamos la suma sobre el resultado\n",
        "print('El número de vacunas aplicados el 29/01/21 es :'  + str(data_vaccine.query('date == \"29/01/21\"')['daily_vaccinations'].sum()))\n",
        "\n"
      ],
      "metadata": {
        "colab": {
          "base_uri": "https://localhost:8080/"
        },
        "id": "y2F1mlkKiyKT",
        "outputId": "3d8a67c0-1044-4d4e-97b9-6acd06a4222f"
      },
      "execution_count": 5,
      "outputs": [
        {
          "output_type": "stream",
          "name": "stdout",
          "text": [
            "El número de vacunas aplicados el 29/01/21 es :4884052.0\n"
          ]
        }
      ]
    },
    {
      "cell_type": "markdown",
      "source": [
        "##g) \n",
        "\n",
        "Crear un dataframe nuevo denominado conDiferencias que contenga los datos originales y una columna derivada (diferencias) con las diferencias de aplicación entre las columnas daily_vaccionations y daily_vaccionations_raw\n"
      ],
      "metadata": {
        "id": "ZYFlgfGikBcM"
      }
    },
    {
      "cell_type": "code",
      "source": [
        "# El dataframe conDiferencias se obtiene primero almacenando el dataframe original en la variable\n",
        "# Luego agregamos la columna \"diferencias\", haciendo la resta entre las columnas daily_vaccinations y daily_vaccinations_raw\n",
        "\n",
        "conDiferencias=data_vaccine.copy() #Creamos el nuevo dataframe. Uso la función .copy() para evitar que conDiferencias modifique el de data_vaccine por punteros\n",
        "conDiferencias['diferencias']=conDiferencias['daily_vaccinations'] - conDiferencias['daily_vaccinations_raw'] #Creamos la nueva columna derivada mediante la resta de los otros dos campos\n",
        "print('el frame resultante es: \\n')\n",
        "print(conDiferencias)\n",
        "\n"
      ],
      "metadata": {
        "colab": {
          "base_uri": "https://localhost:8080/"
        },
        "id": "4t-giKDWkBIl",
        "outputId": "d1e8ab89-d173-48f4-952f-1dbf62ee48b6"
      },
      "execution_count": 6,
      "outputs": [
        {
          "output_type": "stream",
          "name": "stdout",
          "text": [
            "el frame resultante es: \n",
            "\n",
            "           country iso_code       date  total_vaccinations  people_vaccinated  \\\n",
            "0      Afghanistan      AFG 2021-02-22                 0.0                0.0   \n",
            "1      Afghanistan      AFG 2021-02-23                 NaN                NaN   \n",
            "2      Afghanistan      AFG 2021-02-24                 NaN                NaN   \n",
            "3      Afghanistan      AFG 2021-02-25                 NaN                NaN   \n",
            "4      Afghanistan      AFG 2021-02-26                 NaN                NaN   \n",
            "...            ...      ...        ...                 ...                ...   \n",
            "86507     Zimbabwe      ZWE 2022-03-25           8691642.0          4814582.0   \n",
            "86508     Zimbabwe      ZWE 2022-03-26           8791728.0          4886242.0   \n",
            "86509     Zimbabwe      ZWE 2022-03-27           8845039.0          4918147.0   \n",
            "86510     Zimbabwe      ZWE 2022-03-28           8934360.0          4975433.0   \n",
            "86511     Zimbabwe      ZWE 2022-03-29           9039729.0          5053114.0   \n",
            "\n",
            "       people_fully_vaccinated  daily_vaccinations_raw  daily_vaccinations  \\\n",
            "0                          NaN                     NaN                 NaN   \n",
            "1                          NaN                     NaN              1367.0   \n",
            "2                          NaN                     NaN              1367.0   \n",
            "3                          NaN                     NaN              1367.0   \n",
            "4                          NaN                     NaN              1367.0   \n",
            "...                        ...                     ...                 ...   \n",
            "86507                3473523.0                139213.0             69579.0   \n",
            "86508                3487962.0                100086.0             83429.0   \n",
            "86509                3493763.0                 53311.0             90629.0   \n",
            "86510                3501493.0                 89321.0            100614.0   \n",
            "86511                3510256.0                105369.0            103751.0   \n",
            "\n",
            "       total_vaccinations_per_hundred  people_vaccinated_per_hundred  \\\n",
            "0                                0.00                           0.00   \n",
            "1                                 NaN                            NaN   \n",
            "2                                 NaN                            NaN   \n",
            "3                                 NaN                            NaN   \n",
            "4                                 NaN                            NaN   \n",
            "...                               ...                            ...   \n",
            "86507                           57.59                          31.90   \n",
            "86508                           58.25                          32.38   \n",
            "86509                           58.61                          32.59   \n",
            "86510                           59.20                          32.97   \n",
            "86511                           59.90                          33.48   \n",
            "\n",
            "       people_fully_vaccinated_per_hundred  daily_vaccinations_per_million  \\\n",
            "0                                      NaN                             NaN   \n",
            "1                                      NaN                            34.0   \n",
            "2                                      NaN                            34.0   \n",
            "3                                      NaN                            34.0   \n",
            "4                                      NaN                            34.0   \n",
            "...                                    ...                             ...   \n",
            "86507                                23.02                          4610.0   \n",
            "86508                                23.11                          5528.0   \n",
            "86509                                23.15                          6005.0   \n",
            "86510                                23.20                          6667.0   \n",
            "86511                                23.26                          6874.0   \n",
            "\n",
            "                                                vaccines  \\\n",
            "0      Johnson&Johnson, Oxford/AstraZeneca, Pfizer/Bi...   \n",
            "1      Johnson&Johnson, Oxford/AstraZeneca, Pfizer/Bi...   \n",
            "2      Johnson&Johnson, Oxford/AstraZeneca, Pfizer/Bi...   \n",
            "3      Johnson&Johnson, Oxford/AstraZeneca, Pfizer/Bi...   \n",
            "4      Johnson&Johnson, Oxford/AstraZeneca, Pfizer/Bi...   \n",
            "...                                                  ...   \n",
            "86507  Oxford/AstraZeneca, Sinopharm/Beijing, Sinovac...   \n",
            "86508  Oxford/AstraZeneca, Sinopharm/Beijing, Sinovac...   \n",
            "86509  Oxford/AstraZeneca, Sinopharm/Beijing, Sinovac...   \n",
            "86510  Oxford/AstraZeneca, Sinopharm/Beijing, Sinovac...   \n",
            "86511  Oxford/AstraZeneca, Sinopharm/Beijing, Sinovac...   \n",
            "\n",
            "                     source_name  \\\n",
            "0      World Health Organization   \n",
            "1      World Health Organization   \n",
            "2      World Health Organization   \n",
            "3      World Health Organization   \n",
            "4      World Health Organization   \n",
            "...                          ...   \n",
            "86507         Ministry of Health   \n",
            "86508         Ministry of Health   \n",
            "86509         Ministry of Health   \n",
            "86510         Ministry of Health   \n",
            "86511         Ministry of Health   \n",
            "\n",
            "                                          source_website  diferencias  \n",
            "0                               https://covid19.who.int/          NaN  \n",
            "1                               https://covid19.who.int/          NaN  \n",
            "2                               https://covid19.who.int/          NaN  \n",
            "3                               https://covid19.who.int/          NaN  \n",
            "4                               https://covid19.who.int/          NaN  \n",
            "...                                                  ...          ...  \n",
            "86507  https://www.arcgis.com/home/webmap/viewer.html...     -69634.0  \n",
            "86508  https://www.arcgis.com/home/webmap/viewer.html...     -16657.0  \n",
            "86509  https://www.arcgis.com/home/webmap/viewer.html...      37318.0  \n",
            "86510  https://www.arcgis.com/home/webmap/viewer.html...      11293.0  \n",
            "86511  https://www.arcgis.com/home/webmap/viewer.html...      -1618.0  \n",
            "\n",
            "[86512 rows x 16 columns]\n"
          ]
        }
      ]
    },
    {
      "cell_type": "markdown",
      "source": [
        "##h)\n",
        "Obtener el período de tiempo entre el registro con fecha más reciente y el registro con fecha más antigua"
      ],
      "metadata": {
        "id": "o9QlYmvIme4K"
      }
    },
    {
      "cell_type": "code",
      "source": [
        "#Para cumplir con este punto se realiza la resta entre la fecha máxima (más reciente), y la mínima (la más antigua) del campo date.\n",
        "#Para lograr esto usamos la clase .dt\n",
        "\n",
        "print('La fecha más reciente de la vacuna es: ' + str(data_vaccine['date'].max()) + '\\n')\n",
        "print('La fecha más antigua de la vacuna es: ' + str(data_vaccine['date'].min()) + '\\n')\n",
        "\n",
        "#Calculamos los días de diferencia entre las vacunas \n",
        "days_apart=data_vaccine['date'].max()- data_vaccine['date'].min()   #1) Almacenamos la diferencia en la variable days_apart\n",
        "days_apart=str(str(days_apart).split()[0] + ' días')                #2) Para darle formato a la respuesta nos quedamos +unicamente con el número de días\n",
        "print('La diferencia entre las fechas es de ' + days_apart)           #3) Por último imprimimos el resultado\n",
        "\n"
      ],
      "metadata": {
        "colab": {
          "base_uri": "https://localhost:8080/"
        },
        "id": "a4eRYtFumsct",
        "outputId": "3f1371ca-566c-48fe-ea59-6975832cc66f"
      },
      "execution_count": 7,
      "outputs": [
        {
          "output_type": "stream",
          "name": "stdout",
          "text": [
            "La fecha más reciente de la vacuna es: 2022-03-29 00:00:00\n",
            "\n",
            "La fecha más antigua de la vacuna es: 2020-12-02 00:00:00\n",
            "\n",
            "La diferencia entre las fechas es de 482 días\n"
          ]
        }
      ]
    },
    {
      "cell_type": "markdown",
      "source": [
        "##i)\n",
        "Crear un dataframe nuevo denominado conCantidad que contenga los datos originales y una columna derivada (canVac) con la cantidad de vacunas utilizadas cada día (usar la columna vaccines y separar por el carácter / )"
      ],
      "metadata": {
        "id": "HkcW1vmapORf"
      }
    },
    {
      "cell_type": "code",
      "source": [
        "#Para cumplir con el anterior punto se usa la función .split\n",
        "conCantidad=data_vaccine.copy()                              #1) Creamos el nuevo dataframe\n",
        "conCantidad['canVac']=conCantidad['vaccines'].str.split('/') #2) Creamos la columna derivada\n",
        "print(conCantidad)"
      ],
      "metadata": {
        "colab": {
          "base_uri": "https://localhost:8080/"
        },
        "id": "8bnUvSXzptFI",
        "outputId": "77046257-c79a-4000-98f2-844ce9dc6be2"
      },
      "execution_count": 8,
      "outputs": [
        {
          "output_type": "stream",
          "name": "stdout",
          "text": [
            "           country iso_code       date  total_vaccinations  people_vaccinated  \\\n",
            "0      Afghanistan      AFG 2021-02-22                 0.0                0.0   \n",
            "1      Afghanistan      AFG 2021-02-23                 NaN                NaN   \n",
            "2      Afghanistan      AFG 2021-02-24                 NaN                NaN   \n",
            "3      Afghanistan      AFG 2021-02-25                 NaN                NaN   \n",
            "4      Afghanistan      AFG 2021-02-26                 NaN                NaN   \n",
            "...            ...      ...        ...                 ...                ...   \n",
            "86507     Zimbabwe      ZWE 2022-03-25           8691642.0          4814582.0   \n",
            "86508     Zimbabwe      ZWE 2022-03-26           8791728.0          4886242.0   \n",
            "86509     Zimbabwe      ZWE 2022-03-27           8845039.0          4918147.0   \n",
            "86510     Zimbabwe      ZWE 2022-03-28           8934360.0          4975433.0   \n",
            "86511     Zimbabwe      ZWE 2022-03-29           9039729.0          5053114.0   \n",
            "\n",
            "       people_fully_vaccinated  daily_vaccinations_raw  daily_vaccinations  \\\n",
            "0                          NaN                     NaN                 NaN   \n",
            "1                          NaN                     NaN              1367.0   \n",
            "2                          NaN                     NaN              1367.0   \n",
            "3                          NaN                     NaN              1367.0   \n",
            "4                          NaN                     NaN              1367.0   \n",
            "...                        ...                     ...                 ...   \n",
            "86507                3473523.0                139213.0             69579.0   \n",
            "86508                3487962.0                100086.0             83429.0   \n",
            "86509                3493763.0                 53311.0             90629.0   \n",
            "86510                3501493.0                 89321.0            100614.0   \n",
            "86511                3510256.0                105369.0            103751.0   \n",
            "\n",
            "       total_vaccinations_per_hundred  people_vaccinated_per_hundred  \\\n",
            "0                                0.00                           0.00   \n",
            "1                                 NaN                            NaN   \n",
            "2                                 NaN                            NaN   \n",
            "3                                 NaN                            NaN   \n",
            "4                                 NaN                            NaN   \n",
            "...                               ...                            ...   \n",
            "86507                           57.59                          31.90   \n",
            "86508                           58.25                          32.38   \n",
            "86509                           58.61                          32.59   \n",
            "86510                           59.20                          32.97   \n",
            "86511                           59.90                          33.48   \n",
            "\n",
            "       people_fully_vaccinated_per_hundred  daily_vaccinations_per_million  \\\n",
            "0                                      NaN                             NaN   \n",
            "1                                      NaN                            34.0   \n",
            "2                                      NaN                            34.0   \n",
            "3                                      NaN                            34.0   \n",
            "4                                      NaN                            34.0   \n",
            "...                                    ...                             ...   \n",
            "86507                                23.02                          4610.0   \n",
            "86508                                23.11                          5528.0   \n",
            "86509                                23.15                          6005.0   \n",
            "86510                                23.20                          6667.0   \n",
            "86511                                23.26                          6874.0   \n",
            "\n",
            "                                                vaccines  \\\n",
            "0      Johnson&Johnson, Oxford/AstraZeneca, Pfizer/Bi...   \n",
            "1      Johnson&Johnson, Oxford/AstraZeneca, Pfizer/Bi...   \n",
            "2      Johnson&Johnson, Oxford/AstraZeneca, Pfizer/Bi...   \n",
            "3      Johnson&Johnson, Oxford/AstraZeneca, Pfizer/Bi...   \n",
            "4      Johnson&Johnson, Oxford/AstraZeneca, Pfizer/Bi...   \n",
            "...                                                  ...   \n",
            "86507  Oxford/AstraZeneca, Sinopharm/Beijing, Sinovac...   \n",
            "86508  Oxford/AstraZeneca, Sinopharm/Beijing, Sinovac...   \n",
            "86509  Oxford/AstraZeneca, Sinopharm/Beijing, Sinovac...   \n",
            "86510  Oxford/AstraZeneca, Sinopharm/Beijing, Sinovac...   \n",
            "86511  Oxford/AstraZeneca, Sinopharm/Beijing, Sinovac...   \n",
            "\n",
            "                     source_name  \\\n",
            "0      World Health Organization   \n",
            "1      World Health Organization   \n",
            "2      World Health Organization   \n",
            "3      World Health Organization   \n",
            "4      World Health Organization   \n",
            "...                          ...   \n",
            "86507         Ministry of Health   \n",
            "86508         Ministry of Health   \n",
            "86509         Ministry of Health   \n",
            "86510         Ministry of Health   \n",
            "86511         Ministry of Health   \n",
            "\n",
            "                                          source_website  \\\n",
            "0                               https://covid19.who.int/   \n",
            "1                               https://covid19.who.int/   \n",
            "2                               https://covid19.who.int/   \n",
            "3                               https://covid19.who.int/   \n",
            "4                               https://covid19.who.int/   \n",
            "...                                                  ...   \n",
            "86507  https://www.arcgis.com/home/webmap/viewer.html...   \n",
            "86508  https://www.arcgis.com/home/webmap/viewer.html...   \n",
            "86509  https://www.arcgis.com/home/webmap/viewer.html...   \n",
            "86510  https://www.arcgis.com/home/webmap/viewer.html...   \n",
            "86511  https://www.arcgis.com/home/webmap/viewer.html...   \n",
            "\n",
            "                                                  canVac  \n",
            "0      [Johnson&Johnson, Oxford, AstraZeneca, Pfizer,...  \n",
            "1      [Johnson&Johnson, Oxford, AstraZeneca, Pfizer,...  \n",
            "2      [Johnson&Johnson, Oxford, AstraZeneca, Pfizer,...  \n",
            "3      [Johnson&Johnson, Oxford, AstraZeneca, Pfizer,...  \n",
            "4      [Johnson&Johnson, Oxford, AstraZeneca, Pfizer,...  \n",
            "...                                                  ...  \n",
            "86507  [Oxford, AstraZeneca, Sinopharm, Beijing, Sino...  \n",
            "86508  [Oxford, AstraZeneca, Sinopharm, Beijing, Sino...  \n",
            "86509  [Oxford, AstraZeneca, Sinopharm, Beijing, Sino...  \n",
            "86510  [Oxford, AstraZeneca, Sinopharm, Beijing, Sino...  \n",
            "86511  [Oxford, AstraZeneca, Sinopharm, Beijing, Sino...  \n",
            "\n",
            "[86512 rows x 16 columns]\n"
          ]
        }
      ]
    },
    {
      "cell_type": "markdown",
      "source": [
        "#j)\n",
        "Generar un dataframe denominado antes20 con todos los registros que se hayan realizado antes del 20 de diciembre de 2020."
      ],
      "metadata": {
        "id": "ImNSl7LQqcCr"
      }
    },
    {
      "cell_type": "code",
      "source": [
        "#Para lograr lo anterior usamos la función query, con la condición de que la columna date sea menor a la fecha indicada\n",
        "\n",
        "antes20=data_vaccine.query('date <\"20/12/2020\"')\n",
        "print(antes20)"
      ],
      "metadata": {
        "colab": {
          "base_uri": "https://localhost:8080/"
        },
        "id": "CbdbYFsIqmqv",
        "outputId": "9ad64d5e-f534-4c27-8214-4d47cb016bde"
      },
      "execution_count": 9,
      "outputs": [
        {
          "output_type": "stream",
          "name": "stdout",
          "text": [
            "             country iso_code       date  total_vaccinations  \\\n",
            "13403         Canada      CAN 2020-12-14                 5.0   \n",
            "13404         Canada      CAN 2020-12-15               727.0   \n",
            "13405         Canada      CAN 2020-12-16              3025.0   \n",
            "13406         Canada      CAN 2020-12-17              7279.0   \n",
            "13407         Canada      CAN 2020-12-18             11296.0   \n",
            "...              ...      ...        ...                 ...   \n",
            "82362  United States      USA 2020-12-15             84638.0   \n",
            "82363  United States      USA 2020-12-16            244549.0   \n",
            "82364  United States      USA 2020-12-17            517161.0   \n",
            "82365  United States      USA 2020-12-18            933551.0   \n",
            "82366  United States      USA 2020-12-19           1115437.0   \n",
            "\n",
            "       people_vaccinated  people_fully_vaccinated  daily_vaccinations_raw  \\\n",
            "13403                5.0                      NaN                     NaN   \n",
            "13404              727.0                      NaN                   722.0   \n",
            "13405             3025.0                      NaN                  2298.0   \n",
            "13406             7279.0                      NaN                  4254.0   \n",
            "13407            11296.0                      NaN                  4017.0   \n",
            "...                  ...                      ...                     ...   \n",
            "82362            76984.0                   6281.0                 49771.0   \n",
            "82363           231496.0                   6757.0                159911.0   \n",
            "82364           496980.0                   7507.0                272612.0   \n",
            "82365           904656.0                   8718.0                416390.0   \n",
            "82366          1082608.0                   9778.0                181886.0   \n",
            "\n",
            "       daily_vaccinations  total_vaccinations_per_hundred  \\\n",
            "13403                 NaN                            0.00   \n",
            "13404               722.0                            0.00   \n",
            "13405              1510.0                            0.01   \n",
            "13406              2425.0                            0.02   \n",
            "13407              2823.0                            0.03   \n",
            "...                   ...                             ...   \n",
            "82362             27175.0                            0.03   \n",
            "82363             71420.0                            0.07   \n",
            "82364            121718.0                            0.16   \n",
            "82365            180653.0                            0.28   \n",
            "82366            180858.0                            0.34   \n",
            "\n",
            "       people_vaccinated_per_hundred  people_fully_vaccinated_per_hundred  \\\n",
            "13403                           0.00                                  NaN   \n",
            "13404                           0.00                                  NaN   \n",
            "13405                           0.01                                  NaN   \n",
            "13406                           0.02                                  NaN   \n",
            "13407                           0.03                                  NaN   \n",
            "...                              ...                                  ...   \n",
            "82362                           0.02                                  0.0   \n",
            "82363                           0.07                                  0.0   \n",
            "82364                           0.15                                  0.0   \n",
            "82365                           0.27                                  0.0   \n",
            "82366                           0.33                                  0.0   \n",
            "\n",
            "       daily_vaccinations_per_million  \\\n",
            "13403                             NaN   \n",
            "13404                            19.0   \n",
            "13405                            40.0   \n",
            "13406                            64.0   \n",
            "13407                            74.0   \n",
            "...                               ...   \n",
            "82362                            82.0   \n",
            "82363                           215.0   \n",
            "82364                           367.0   \n",
            "82365                           544.0   \n",
            "82366                           545.0   \n",
            "\n",
            "                                                vaccines  \\\n",
            "13403  Johnson&Johnson, Moderna, Oxford/AstraZeneca, ...   \n",
            "13404  Johnson&Johnson, Moderna, Oxford/AstraZeneca, ...   \n",
            "13405  Johnson&Johnson, Moderna, Oxford/AstraZeneca, ...   \n",
            "13406  Johnson&Johnson, Moderna, Oxford/AstraZeneca, ...   \n",
            "13407  Johnson&Johnson, Moderna, Oxford/AstraZeneca, ...   \n",
            "...                                                  ...   \n",
            "82362          Johnson&Johnson, Moderna, Pfizer/BioNTech   \n",
            "82363          Johnson&Johnson, Moderna, Pfizer/BioNTech   \n",
            "82364          Johnson&Johnson, Moderna, Pfizer/BioNTech   \n",
            "82365          Johnson&Johnson, Moderna, Pfizer/BioNTech   \n",
            "82366          Johnson&Johnson, Moderna, Pfizer/BioNTech   \n",
            "\n",
            "                                             source_name  \\\n",
            "13403  Official data from provinces via covid19tracke...   \n",
            "13404  Official data from provinces via covid19tracke...   \n",
            "13405  Official data from provinces via covid19tracke...   \n",
            "13406  Official data from provinces via covid19tracke...   \n",
            "13407  Official data from provinces via covid19tracke...   \n",
            "...                                                  ...   \n",
            "82362         Centers for Disease Control and Prevention   \n",
            "82363         Centers for Disease Control and Prevention   \n",
            "82364         Centers for Disease Control and Prevention   \n",
            "82365         Centers for Disease Control and Prevention   \n",
            "82366         Centers for Disease Control and Prevention   \n",
            "\n",
            "                                          source_website  \n",
            "13403  https://covid19tracker.ca/vaccinationtracker.html  \n",
            "13404  https://covid19tracker.ca/vaccinationtracker.html  \n",
            "13405  https://covid19tracker.ca/vaccinationtracker.html  \n",
            "13406  https://covid19tracker.ca/vaccinationtracker.html  \n",
            "13407  https://covid19tracker.ca/vaccinationtracker.html  \n",
            "...                                                  ...  \n",
            "82362  https://data.cdc.gov/Vaccinations/COVID-19-Vac...  \n",
            "82363  https://data.cdc.gov/Vaccinations/COVID-19-Vac...  \n",
            "82364  https://data.cdc.gov/Vaccinations/COVID-19-Vac...  \n",
            "82365  https://data.cdc.gov/Vaccinations/COVID-19-Vac...  \n",
            "82366  https://data.cdc.gov/Vaccinations/COVID-19-Vac...  \n",
            "\n",
            "[70 rows x 15 columns]\n"
          ]
        },
        {
          "output_type": "stream",
          "name": "stderr",
          "text": [
            "<ipython-input-9-d91447bf75d9>:3: UserWarning: Parsing dates in DD/MM/YYYY format when dayfirst=False (the default) was specified. This may lead to inconsistently parsed dates! Specify a format to ensure consistent parsing.\n",
            "  antes20=data_vaccine.query('date <\"20/12/2020\"')\n"
          ]
        }
      ]
    },
    {
      "cell_type": "markdown",
      "source": [],
      "metadata": {
        "id": "rJ7mMaI1rL_4"
      }
    },
    {
      "cell_type": "markdown",
      "source": [
        "##k)\n",
        "Obtener un dataframe denominado pfizer con todos los registros donde se haya utilizado la vacuna Pfizer."
      ],
      "metadata": {
        "id": "nZQGYKnXrVA5"
      }
    },
    {
      "cell_type": "code",
      "source": [
        "#Para lograr lo anterior usamos la función .contains(), buscando matches con la palabra Pfizer. Luego usamos una indexación booleana\n",
        "\n",
        "pfizer=data_vaccine.copy()\n",
        "pfizer=pfizer[pfizer['vaccines'].str.contains('Pfizer',case=False)]\n",
        "\n",
        "print()\n",
        "print(pfizer)"
      ],
      "metadata": {
        "colab": {
          "base_uri": "https://localhost:8080/"
        },
        "id": "mjKzvKkhraL8",
        "outputId": "7063c623-d4e3-4efb-f912-616c79261b9f"
      },
      "execution_count": 10,
      "outputs": [
        {
          "output_type": "stream",
          "name": "stdout",
          "text": [
            "\n",
            "           country  iso_code       date  total_vaccinations  \\\n",
            "0      Afghanistan       AFG 2021-02-22                 0.0   \n",
            "1      Afghanistan       AFG 2021-02-23                 NaN   \n",
            "2      Afghanistan       AFG 2021-02-24                 NaN   \n",
            "3      Afghanistan       AFG 2021-02-25                 NaN   \n",
            "4      Afghanistan       AFG 2021-02-26                 NaN   \n",
            "...            ...       ...        ...                 ...   \n",
            "85069        Wales  OWID_WLS 2022-03-24           6921195.0   \n",
            "85070        Wales  OWID_WLS 2022-03-25           6923298.0   \n",
            "85071        Wales  OWID_WLS 2022-03-26           6923706.0   \n",
            "85072        Wales  OWID_WLS 2022-03-27           6925183.0   \n",
            "85073        Wales  OWID_WLS 2022-03-28           6927437.0   \n",
            "\n",
            "       people_vaccinated  people_fully_vaccinated  daily_vaccinations_raw  \\\n",
            "0                    0.0                      NaN                     NaN   \n",
            "1                    NaN                      NaN                     NaN   \n",
            "2                    NaN                      NaN                     NaN   \n",
            "3                    NaN                      NaN                     NaN   \n",
            "4                    NaN                      NaN                     NaN   \n",
            "...                  ...                      ...                     ...   \n",
            "85069          2526832.0                2397677.0                  1756.0   \n",
            "85070          2527100.0                2398097.0                  2103.0   \n",
            "85071          2527184.0                2398322.0                   408.0   \n",
            "85072          2528051.0                2398676.0                  1477.0   \n",
            "85073          2528664.0                2399341.0                  2254.0   \n",
            "\n",
            "       daily_vaccinations  total_vaccinations_per_hundred  \\\n",
            "0                     NaN                            0.00   \n",
            "1                  1367.0                             NaN   \n",
            "2                  1367.0                             NaN   \n",
            "3                  1367.0                             NaN   \n",
            "4                  1367.0                             NaN   \n",
            "...                   ...                             ...   \n",
            "85069              1705.0                          218.33   \n",
            "85070              1667.0                          218.40   \n",
            "85071              1519.0                          218.41   \n",
            "85072              1505.0                          218.46   \n",
            "85073              1609.0                          218.53   \n",
            "\n",
            "       people_vaccinated_per_hundred  people_fully_vaccinated_per_hundred  \\\n",
            "0                               0.00                                  NaN   \n",
            "1                                NaN                                  NaN   \n",
            "2                                NaN                                  NaN   \n",
            "3                                NaN                                  NaN   \n",
            "4                                NaN                                  NaN   \n",
            "...                              ...                                  ...   \n",
            "85069                          79.71                                75.64   \n",
            "85070                          79.72                                75.65   \n",
            "85071                          79.72                                75.66   \n",
            "85072                          79.75                                75.67   \n",
            "85073                          79.77                                75.69   \n",
            "\n",
            "       daily_vaccinations_per_million  \\\n",
            "0                                 NaN   \n",
            "1                                34.0   \n",
            "2                                34.0   \n",
            "3                                34.0   \n",
            "4                                34.0   \n",
            "...                               ...   \n",
            "85069                           538.0   \n",
            "85070                           526.0   \n",
            "85071                           479.0   \n",
            "85072                           475.0   \n",
            "85073                           508.0   \n",
            "\n",
            "                                                vaccines  \\\n",
            "0      Johnson&Johnson, Oxford/AstraZeneca, Pfizer/Bi...   \n",
            "1      Johnson&Johnson, Oxford/AstraZeneca, Pfizer/Bi...   \n",
            "2      Johnson&Johnson, Oxford/AstraZeneca, Pfizer/Bi...   \n",
            "3      Johnson&Johnson, Oxford/AstraZeneca, Pfizer/Bi...   \n",
            "4      Johnson&Johnson, Oxford/AstraZeneca, Pfizer/Bi...   \n",
            "...                                                  ...   \n",
            "85069       Moderna, Oxford/AstraZeneca, Pfizer/BioNTech   \n",
            "85070       Moderna, Oxford/AstraZeneca, Pfizer/BioNTech   \n",
            "85071       Moderna, Oxford/AstraZeneca, Pfizer/BioNTech   \n",
            "85072       Moderna, Oxford/AstraZeneca, Pfizer/BioNTech   \n",
            "85073       Moderna, Oxford/AstraZeneca, Pfizer/BioNTech   \n",
            "\n",
            "                            source_name  \\\n",
            "0             World Health Organization   \n",
            "1             World Health Organization   \n",
            "2             World Health Organization   \n",
            "3             World Health Organization   \n",
            "4             World Health Organization   \n",
            "...                                 ...   \n",
            "85069  Government of the United Kingdom   \n",
            "85070  Government of the United Kingdom   \n",
            "85071  Government of the United Kingdom   \n",
            "85072  Government of the United Kingdom   \n",
            "85073  Government of the United Kingdom   \n",
            "\n",
            "                                          source_website  \n",
            "0                               https://covid19.who.int/  \n",
            "1                               https://covid19.who.int/  \n",
            "2                               https://covid19.who.int/  \n",
            "3                               https://covid19.who.int/  \n",
            "4                               https://covid19.who.int/  \n",
            "...                                                  ...  \n",
            "85069  https://coronavirus.data.gov.uk/details/vaccin...  \n",
            "85070  https://coronavirus.data.gov.uk/details/vaccin...  \n",
            "85071  https://coronavirus.data.gov.uk/details/vaccin...  \n",
            "85072  https://coronavirus.data.gov.uk/details/vaccin...  \n",
            "85073  https://coronavirus.data.gov.uk/details/vaccin...  \n",
            "\n",
            "[64193 rows x 15 columns]\n"
          ]
        }
      ]
    },
    {
      "cell_type": "markdown",
      "source": [
        "##l)\n",
        "\n",
        "Almacenar los dataframes generados (conDiferencias,conCantidad,antes20 y pfizer) en un archivo de Excel denominado resultadosReto.xlsx, donde cada dataframe ocupe una hoja diferente. Se recomienda ver la documentación de pd.ExcelWriter"
      ],
      "metadata": {
        "id": "nqSyBrCy2nDC"
      }
    },
    {
      "cell_type": "code",
      "source": [
        "\n",
        "with pd.ExcelWriter('resultadosReto.xlsx') as writer:\n",
        "    conDiferencias.to_excel(writer, sheet_name='conDiferencias')  \n",
        "    conCantidad.to_excel(writer, sheet_name='conCantidad')\n",
        "    antes20.to_excel(writer, sheet_name='antes20')\n",
        "    pfizer.to_excel(writer, sheet_name='pfizer')\n",
        "    "
      ],
      "metadata": {
        "id": "PNFj6AAU25Mw"
      },
      "execution_count": 18,
      "outputs": []
    }
  ]
}